{
 "cells": [
  {
   "cell_type": "code",
   "execution_count": 28,
   "metadata": {
    "collapsed": true
   },
   "outputs": [],
   "source": [
    "import paramiko\n",
    "import sys\n",
    "from os.path import expanduser\n",
    "import time\n",
    "import json"
   ]
  },
  {
   "cell_type": "code",
   "execution_count": 137,
   "metadata": {},
   "outputs": [],
   "source": [
    "import subprocess"
   ]
  },
  {
   "cell_type": "code",
   "execution_count": null,
   "metadata": {
    "collapsed": true
   },
   "outputs": [],
   "source": [
    "subprocess."
   ]
  },
  {
   "cell_type": "code",
   "execution_count": 5,
   "metadata": {},
   "outputs": [],
   "source": [
    "def connect():\n",
    "    server = 'ec2-35-166-134-236.us-west-2.compute.amazonaws.com'\n",
    "    k = paramiko.RSAKey.from_private_key_file('/Users/timlee/Dropbox/keys/chaffixdevkey.pem')\n",
    "    c = paramiko.SSHClient()\n",
    "    c.set_missing_host_key_policy(paramiko.AutoAddPolicy())\n",
    "    print \"connecting\"\n",
    "    c.connect(hostname = server, username = 'ec2-user')\n",
    "    return c"
   ]
  },
  {
   "cell_type": "code",
   "execution_count": 185,
   "metadata": {},
   "outputs": [],
   "source": [
    "def get_timestamp():\n",
    "    return time.strftime(\"%a, %d %b %Y %H:%M:%S +0000\", time.gmtime())\n",
    "\n",
    "\n",
    "def check_log(client):\n",
    "    msg = 'opened connection at %s' % get_timestamp()    \n",
    "    while True:\n",
    "        _, stdout, _ = client.exec_command('cat flock_log.log | wc -l')\n",
    "        line_count = int(stdout.read().split('\\n')[0])\n",
    "        if line_count % 2 == 0:\n",
    "            print \"%d Logs found\" % line_count\n",
    "            client.exec_command(\"echo %s > flock_log.log\" % msg )\n",
    "            break\n",
    "        print \"...\"\n",
    "        time.sleep(10)\n",
    "    print \"no other connections\"\n",
    "\n",
    "def git_pull(client):\n",
    "    try:\n",
    "        client.exec_command(\"cd ~/; git clone https://github.com/ajhoward7/sprint1.git\")\n",
    "        print 'repository created'\n",
    "    except Exception as e:\n",
    "        print e\n",
    "        \n",
    "def update_crontab(client):\n",
    "    msg = '* * * * * python /home/ec2-user/sprint1/json_digest.py'\n",
    "    try:\n",
    "        client.exec_command('crontab -r')\n",
    "        #client.exec_command('crontab -l | {cat; echo \"%s\"; } | crontab -' % msg)\n",
    "        client.exec_command('(crontab -l 2>/dev/null; echo \"*/5 * * * * python /home/ec2-user/sprint1/json_digest.py --prefix ppp\") | crontab -')\n",
    "        print 'cron tab updated'\n",
    "    except Exception as e:\n",
    "        print(e)\n",
    "        \n",
    "    "
   ]
  },
  {
   "cell_type": "code",
   "execution_count": 186,
   "metadata": {},
   "outputs": [
    {
     "name": "stdout",
     "output_type": "stream",
     "text": [
      "connecting\n",
      "repository created\n",
      "cron tab updated\n"
     ]
    }
   ],
   "source": [
    "c = connect()\n",
    "git_pull(c)\n",
    "update_crontab(c)"
   ]
  },
  {
   "cell_type": "code",
   "execution_count": 165,
   "metadata": {},
   "outputs": [
    {
     "name": "stdout",
     "output_type": "stream",
     "text": [
      "repository created\n"
     ]
    }
   ],
   "source": [
    "git_pull(c)"
   ]
  },
  {
   "cell_type": "code",
   "execution_count": null,
   "metadata": {
    "collapsed": true
   },
   "outputs": [],
   "source": []
  }
 ],
 "metadata": {
  "kernelspec": {
   "display_name": "Python 2",
   "language": "python",
   "name": "python2"
  },
  "language_info": {
   "codemirror_mode": {
    "name": "ipython",
    "version": 2
   },
   "file_extension": ".py",
   "mimetype": "text/x-python",
   "name": "python",
   "nbconvert_exporter": "python",
   "pygments_lexer": "ipython2",
   "version": "2.7.14"
  }
 },
 "nbformat": 4,
 "nbformat_minor": 2
}
