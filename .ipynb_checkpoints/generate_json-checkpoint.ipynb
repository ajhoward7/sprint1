{
 "cells": [
  {
   "cell_type": "code",
   "execution_count": 28,
   "metadata": {
    "collapsed": true
   },
   "outputs": [],
   "source": [
    "import json\n",
    "import numpy as np\n",
    "from pprint import pprint\n",
    "from random_words import RandomNicknames"
   ]
  },
  {
   "cell_type": "code",
   "execution_count": 29,
   "metadata": {},
   "outputs": [
    {
     "data": {
      "text/plain": [
       "['Camille']"
      ]
     },
     "execution_count": 29,
     "metadata": {},
     "output_type": "execute_result"
    }
   ],
   "source": [
    "rn = RandomNicknames()\n",
    "rn.random_nicks()"
   ]
  },
  {
   "cell_type": "code",
   "execution_count": 30,
   "metadata": {
    "collapsed": true
   },
   "outputs": [],
   "source": [
    "json_list = []\n",
    "for i in range(100):\n",
    "    json_list.append({\"name\": rn.random_nicks()[0], \"prop\": { \"age\": np.random.randint(20, 150), \"zipcode\": np.random.randint(90000, 99999), \"DMID\" : np.random.randint(0, 999999) }})"
   ]
  },
  {
   "cell_type": "code",
   "execution_count": 31,
   "metadata": {},
   "outputs": [
    {
     "data": {
      "text/plain": [
       "42"
      ]
     },
     "execution_count": 31,
     "metadata": {},
     "output_type": "execute_result"
    }
   ],
   "source": [
    "np.random.randint(20, 150)"
   ]
  },
  {
   "cell_type": "code",
   "execution_count": 33,
   "metadata": {
    "scrolled": false
   },
   "outputs": [
    {
     "name": "stdout",
     "output_type": "stream",
     "text": [
      "{'name': 'Kira', 'prop': {'DMID': 208532, 'age': 97, 'zipcode': 93371}}\n",
      "{'name': 'Dominique', 'prop': {'DMID': 941121, 'age': 57, 'zipcode': 94538}}\n",
      "{'name': 'Rashad', 'prop': {'DMID': 585112, 'age': 135, 'zipcode': 95647}}\n",
      "{'name': 'Rena', 'prop': {'DMID': 23239, 'age': 101, 'zipcode': 99572}}\n",
      "{'name': 'Scott', 'prop': {'DMID': 842655, 'age': 78, 'zipcode': 90397}}\n",
      "{'name': 'Joseph', 'prop': {'DMID': 267697, 'age': 35, 'zipcode': 97767}}\n",
      "{'name': 'Tammie', 'prop': {'DMID': 479184, 'age': 125, 'zipcode': 98139}}\n",
      "{'name': 'Samantha', 'prop': {'DMID': 181439, 'age': 96, 'zipcode': 97371}}\n",
      "{'name': 'Ernest', 'prop': {'DMID': 159112, 'age': 109, 'zipcode': 96652}}\n",
      "{'name': 'Marion', 'prop': {'DMID': 413551, 'age': 113, 'zipcode': 90018}}\n",
      "{'name': 'Bert', 'prop': {'DMID': 389818, 'age': 68, 'zipcode': 97117}}\n",
      "{'name': 'Terri', 'prop': {'DMID': 391808, 'age': 43, 'zipcode': 96948}}\n",
      "{'name': 'Cameron', 'prop': {'DMID': 762070, 'age': 124, 'zipcode': 97136}}\n",
      "{'name': 'Maxwell', 'prop': {'DMID': 547008, 'age': 134, 'zipcode': 91633}}\n",
      "{'name': 'Kiana', 'prop': {'DMID': 426501, 'age': 74, 'zipcode': 98503}}\n",
      "{'name': 'Emerald', 'prop': {'DMID': 838931, 'age': 100, 'zipcode': 93301}}\n",
      "{'name': 'Polly', 'prop': {'DMID': 802221, 'age': 29, 'zipcode': 98558}}\n",
      "{'name': 'Marla', 'prop': {'DMID': 345445, 'age': 103, 'zipcode': 98107}}\n",
      "{'name': 'Marquis', 'prop': {'DMID': 949559, 'age': 131, 'zipcode': 96289}}\n",
      "{'name': 'Dakota', 'prop': {'DMID': 872273, 'age': 62, 'zipcode': 96693}}\n",
      "{'name': 'Bernice', 'prop': {'DMID': 825597, 'age': 97, 'zipcode': 94551}}\n",
      "{'name': 'Ryleigh', 'prop': {'DMID': 237171, 'age': 131, 'zipcode': 93537}}\n",
      "{'name': 'Callum', 'prop': {'DMID': 131686, 'age': 128, 'zipcode': 90455}}\n",
      "{'name': 'Darragh', 'prop': {'DMID': 63900, 'age': 88, 'zipcode': 95715}}\n",
      "{'name': 'Callum', 'prop': {'DMID': 231609, 'age': 137, 'zipcode': 90027}}\n",
      "{'name': 'Lena', 'prop': {'DMID': 85835, 'age': 95, 'zipcode': 92263}}\n",
      "{'name': 'Taryn', 'prop': {'DMID': 477811, 'age': 54, 'zipcode': 98661}}\n",
      "{'name': 'Gail', 'prop': {'DMID': 933292, 'age': 120, 'zipcode': 98174}}\n",
      "{'name': 'Maisie', 'prop': {'DMID': 331329, 'age': 116, 'zipcode': 97213}}\n",
      "{'name': 'Monty', 'prop': {'DMID': 341398, 'age': 147, 'zipcode': 91529}}\n",
      "{'name': 'Ricardo', 'prop': {'DMID': 23360, 'age': 42, 'zipcode': 97937}}\n",
      "{'name': 'Lorrie', 'prop': {'DMID': 535358, 'age': 67, 'zipcode': 91208}}\n",
      "{'name': 'Alayna', 'prop': {'DMID': 433673, 'age': 132, 'zipcode': 95456}}\n",
      "{'name': 'April', 'prop': {'DMID': 133759, 'age': 135, 'zipcode': 98373}}\n",
      "{'name': 'Norma', 'prop': {'DMID': 451397, 'age': 75, 'zipcode': 93260}}\n",
      "{'name': 'Homer', 'prop': {'DMID': 546257, 'age': 110, 'zipcode': 90511}}\n",
      "{'name': 'Holly', 'prop': {'DMID': 711748, 'age': 94, 'zipcode': 91877}}\n",
      "{'name': 'Giselle', 'prop': {'DMID': 718672, 'age': 100, 'zipcode': 92829}}\n",
      "{'name': 'Ariel', 'prop': {'DMID': 295496, 'age': 20, 'zipcode': 93102}}\n",
      "{'name': 'Connie', 'prop': {'DMID': 119328, 'age': 95, 'zipcode': 90898}}\n",
      "{'name': 'Marcus', 'prop': {'DMID': 724805, 'age': 111, 'zipcode': 99646}}\n",
      "{'name': 'Kristine', 'prop': {'DMID': 163295, 'age': 129, 'zipcode': 92671}}\n",
      "{'name': 'Yvette', 'prop': {'DMID': 52958, 'age': 105, 'zipcode': 94321}}\n",
      "{'name': 'Dara', 'prop': {'DMID': 449671, 'age': 69, 'zipcode': 99154}}\n",
      "{'name': 'Brittney', 'prop': {'DMID': 176886, 'age': 48, 'zipcode': 95715}}\n",
      "{'name': 'Otis', 'prop': {'DMID': 603478, 'age': 80, 'zipcode': 92278}}\n",
      "{'name': 'Jacob', 'prop': {'DMID': 701658, 'age': 84, 'zipcode': 97337}}\n",
      "{'name': 'Alyssa', 'prop': {'DMID': 945214, 'age': 144, 'zipcode': 97661}}\n",
      "{'name': 'Tonia', 'prop': {'DMID': 830707, 'age': 139, 'zipcode': 95437}}\n",
      "{'name': 'Toni', 'prop': {'DMID': 915749, 'age': 123, 'zipcode': 93395}}\n",
      "{'name': 'Brandon', 'prop': {'DMID': 35995, 'age': 59, 'zipcode': 99053}}\n",
      "{'name': 'Patrick', 'prop': {'DMID': 696528, 'age': 82, 'zipcode': 92489}}\n",
      "{'name': 'Lauren', 'prop': {'DMID': 196959, 'age': 142, 'zipcode': 97734}}\n",
      "{'name': 'Kaylee', 'prop': {'DMID': 480899, 'age': 61, 'zipcode': 91423}}\n",
      "{'name': 'Kalea', 'prop': {'DMID': 913484, 'age': 126, 'zipcode': 97687}}\n",
      "{'name': 'Tammy', 'prop': {'DMID': 838146, 'age': 66, 'zipcode': 91347}}\n",
      "{'name': 'Micah', 'prop': {'DMID': 828010, 'age': 65, 'zipcode': 90167}}\n",
      "{'name': 'Maria', 'prop': {'DMID': 275885, 'age': 56, 'zipcode': 98157}}\n",
      "{'name': 'Gisselle', 'prop': {'DMID': 875925, 'age': 113, 'zipcode': 93761}}\n",
      "{'name': 'Hayden', 'prop': {'DMID': 189259, 'age': 87, 'zipcode': 95176}}\n",
      "{'name': 'Bert', 'prop': {'DMID': 118993, 'age': 31, 'zipcode': 90090}}\n",
      "{'name': 'Eliza', 'prop': {'DMID': 39061, 'age': 91, 'zipcode': 91641}}\n",
      "{'name': 'Donnie', 'prop': {'DMID': 880440, 'age': 55, 'zipcode': 99113}}\n",
      "{'name': 'Marlon', 'prop': {'DMID': 357319, 'age': 82, 'zipcode': 98528}}\n",
      "{'name': 'Chelsey', 'prop': {'DMID': 495794, 'age': 115, 'zipcode': 92173}}\n",
      "{'name': 'Josie', 'prop': {'DMID': 583010, 'age': 79, 'zipcode': 93357}}\n",
      "{'name': 'Noah', 'prop': {'DMID': 332773, 'age': 35, 'zipcode': 98608}}\n",
      "{'name': 'Adam', 'prop': {'DMID': 279682, 'age': 55, 'zipcode': 98997}}\n",
      "{'name': 'Henry', 'prop': {'DMID': 12638, 'age': 87, 'zipcode': 97489}}\n",
      "{'name': 'Sheldon', 'prop': {'DMID': 941251, 'age': 130, 'zipcode': 97832}}\n",
      "{'name': 'Amelie', 'prop': {'DMID': 465843, 'age': 132, 'zipcode': 95731}}\n",
      "{'name': 'Homer', 'prop': {'DMID': 835001, 'age': 91, 'zipcode': 90687}}\n",
      "{'name': 'Roy', 'prop': {'DMID': 25741, 'age': 71, 'zipcode': 97090}}\n",
      "{'name': 'Mateo', 'prop': {'DMID': 302549, 'age': 119, 'zipcode': 97218}}\n",
      "{'name': 'Trina', 'prop': {'DMID': 415447, 'age': 113, 'zipcode': 90369}}\n",
      "{'name': 'Caitlyn', 'prop': {'DMID': 222486, 'age': 111, 'zipcode': 93252}}\n",
      "{'name': 'Susan', 'prop': {'DMID': 635368, 'age': 94, 'zipcode': 92941}}\n",
      "{'name': 'Quintrell', 'prop': {'DMID': 996235, 'age': 75, 'zipcode': 91681}}\n",
      "{'name': 'Abbie', 'prop': {'DMID': 416278, 'age': 116, 'zipcode': 95604}}\n",
      "{'name': 'Weston', 'prop': {'DMID': 336706, 'age': 53, 'zipcode': 91889}}\n",
      "{'name': 'Leonard', 'prop': {'DMID': 112820, 'age': 108, 'zipcode': 94382}}\n",
      "{'name': 'Gordon', 'prop': {'DMID': 755285, 'age': 115, 'zipcode': 94736}}\n",
      "{'name': 'Gladys', 'prop': {'DMID': 380996, 'age': 115, 'zipcode': 99320}}\n",
      "{'name': 'Josiah', 'prop': {'DMID': 114638, 'age': 102, 'zipcode': 90437}}\n",
      "{'name': 'Alton', 'prop': {'DMID': 128298, 'age': 94, 'zipcode': 99390}}\n",
      "{'name': 'Gerardo', 'prop': {'DMID': 261773, 'age': 147, 'zipcode': 91246}}\n",
      "{'name': 'Michaela', 'prop': {'DMID': 89369, 'age': 81, 'zipcode': 96654}}\n",
      "{'name': 'Alissa', 'prop': {'DMID': 580739, 'age': 62, 'zipcode': 96374}}\n",
      "{'name': 'Candy', 'prop': {'DMID': 126262, 'age': 68, 'zipcode': 90272}}\n",
      "{'name': 'Homer', 'prop': {'DMID': 428439, 'age': 128, 'zipcode': 93917}}\n",
      "{'name': 'Misty', 'prop': {'DMID': 141464, 'age': 46, 'zipcode': 90170}}\n",
      "{'name': 'Santiago', 'prop': {'DMID': 368396, 'age': 80, 'zipcode': 95475}}\n",
      "{'name': 'Thelma', 'prop': {'DMID': 90490, 'age': 74, 'zipcode': 96717}}\n",
      "{'name': 'Stacie', 'prop': {'DMID': 217069, 'age': 95, 'zipcode': 92255}}\n",
      "{'name': 'Morgan', 'prop': {'DMID': 773389, 'age': 138, 'zipcode': 98334}}\n",
      "{'name': 'Edwin', 'prop': {'DMID': 512899, 'age': 69, 'zipcode': 94411}}\n",
      "{'name': 'Gilbert', 'prop': {'DMID': 161674, 'age': 79, 'zipcode': 95267}}\n",
      "{'name': 'Loren', 'prop': {'DMID': 191801, 'age': 70, 'zipcode': 91865}}\n",
      "{'name': 'Yasmine', 'prop': {'DMID': 110765, 'age': 34, 'zipcode': 94405}}\n",
      "{'name': 'Allen', 'prop': {'DMID': 705313, 'age': 109, 'zipcode': 91729}}\n"
     ]
    }
   ],
   "source": [
    "for json in json_list:\n",
    "    pprint(json)"
   ]
  },
  {
   "cell_type": "code",
   "execution_count": null,
   "metadata": {
    "collapsed": true
   },
   "outputs": [],
   "source": []
  }
 ],
 "metadata": {
  "kernelspec": {
   "display_name": "Python 3",
   "language": "python",
   "name": "python3"
  },
  "language_info": {
   "codemirror_mode": {
    "name": "ipython",
    "version": 3
   },
   "file_extension": ".py",
   "mimetype": "text/x-python",
   "name": "python",
   "nbconvert_exporter": "python",
   "pygments_lexer": "ipython3",
   "version": "3.6.3"
  }
 },
 "nbformat": 4,
 "nbformat_minor": 2
}
